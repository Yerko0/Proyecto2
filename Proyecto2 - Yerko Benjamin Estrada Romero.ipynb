{
 "cells": [
  {
   "cell_type": "code",
   "execution_count": 9,
   "id": "e5811f58-f5b5-45d8-bebe-7e07ff1e031f",
   "metadata": {},
   "outputs": [
    {
     "name": "stdout",
     "output_type": "stream",
     "text": [
      "\n",
      " Filtro: ninguno - Total: 7349 - Perros: 7149 - Gatos: 200\n",
      "Precisión: 97.21%\n",
      "\n",
      " Filtro: sobel - Total: 7349 - Perros: 7149 - Gatos: 200\n",
      "Precisión: 97.07%\n",
      "\n",
      " Filtro: laplaciano - Total: 7349 - Perros: 7149 - Gatos: 200\n",
      "Precisión: 97.21%\n",
      "\n",
      " Filtro: canny - Total: 7349 - Perros: 7149 - Gatos: 200\n",
      "Precisión: 97.28%\n"
     ]
    }
   ],
   "source": [
    "import os\n",
    "import cv2\n",
    "import numpy as np\n",
    "import matplotlib.pyplot as plt\n",
    "from sklearn.neighbors import KNeighborsClassifier\n",
    "from sklearn.model_selection import train_test_split\n",
    "from sklearn.metrics import accuracy_score\n",
    "\n",
    "path = \"images\"\n",
    "labels_file = \"annotations/list.txt\"\n",
    "\n",
    "#etiquetas\n",
    "labels_dict = {\n",
    "    line.split()[0].split('.')[0]: 0 if int(line.split()[1]) < 37 else 1\n",
    "    for line in open(labels_file)\n",
    "    if not line.startswith(\"#\")\n",
    "}\n",
    "\n",
    "#procesar imagen\n",
    "def preprocess(img_path, filtro=None):\n",
    "    img = cv2.imread(img_path)\n",
    "    if img is None: return None\n",
    "    gray = cv2.cvtColor(img, cv2.COLOR_BGR2GRAY)\n",
    "\n",
    "    if filtro == \"sobel\":\n",
    "        sx = cv2.Sobel(gray, cv2.CV_64F, 1, 0)\n",
    "        sy = cv2.Sobel(gray, cv2.CV_64F, 0, 1)\n",
    "        mag = np.sqrt(sx**2 + sy**2)\n",
    "        gray = np.uint8(255 * mag / np.max(mag))\n",
    "    elif filtro == \"laplaciano\":\n",
    "        lap = cv2.Laplacian(gray, cv2.CV_64F)\n",
    "        gray = np.uint8(255 * np.absolute(lap) / np.max(np.absolute(lap)))\n",
    "    elif filtro == \"canny\":\n",
    "        gray = cv2.Canny(gray, 100, 200)\n",
    "\n",
    "    return cv2.resize(gray, (64, 64)).flatten(), cv2.resize(cv2.cvtColor(img, cv2.COLOR_BGR2RGB), (64, 64))\n",
    "\n",
    "#dataset\n",
    "def cargar_datos(filtro=None):\n",
    "    X, y, imgs = [], [], []\n",
    "    for file in os.listdir(path):\n",
    "        if file.endswith(\".jpg\"):\n",
    "            name = file.split('.')[0]\n",
    "            if name in labels_dict:\n",
    "                resultado = preprocess(os.path.join(path, file), filtro)\n",
    "                if resultado:\n",
    "                    vec, img = resultado\n",
    "                    X.append(vec)\n",
    "                    y.append(labels_dict[name])\n",
    "                    imgs.append(img)\n",
    "    return np.array(X), np.array(y), np.array(imgs, dtype=object)\n",
    "\n",
    "def evaluar(X, y, imgs, nombre):\n",
    "    print(f\"\\n {nombre} - Total: {len(y)} - Perros: {sum(y==0)} - Gatos: {sum(y==1)}\")\n",
    "    Xtr, Xte, ytr, yte = train_test_split(X, y, test_size=0.2, stratify=y, random_state=42)\n",
    "    imgte = imgs[y != None][-len(yte):]  #para asegurar longitud\n",
    "    modelo = KNeighborsClassifier(n_neighbors=3)\n",
    "    modelo.fit(Xtr, ytr)\n",
    "    pred = modelo.predict(Xte)\n",
    "    acc = accuracy_score(yte, pred) * 100\n",
    "    print(f\"Precisión: {acc:.2f}%\")\n",
    "\n",
    "for filtro in [None, \"sobel\", \"laplaciano\", \"canny\"]:\n",
    "    X, y, imgs = cargar_datos(filtro)\n",
    "    evaluar(X, y, imgs, f\"Filtro: {filtro if filtro else 'ninguno'}\")"
   ]
  },
  {
   "cell_type": "markdown",
   "id": "e8924765-8407-4cdf-9e99-30e9fa039095",
   "metadata": {},
   "source": [
    "Clasificación de Perros y Gatos con el Dataset de Oxford Pets https://academictorrents.com/details/b18bbd9ba03d50b0f7f479acc9f4228a408cecc1\n",
    "En base al Dataset de Oxford-IIIT Pet se aplicó un procesamiento de imagenes por medio de filtros y clasificacion de imagenes usando un modelo KNN con el objetivo de diferenciar entre perros y gatos.\n",
    "Para preparar las imágenes antes de clasificarlas \n"
   ]
  },
  {
   "cell_type": "code",
   "execution_count": null,
   "id": "cde0022d-8f05-4a48-a660-3fb477ede7e2",
   "metadata": {},
   "outputs": [],
   "source": []
  }
 ],
 "metadata": {
  "kernelspec": {
   "display_name": "Python 3 (ipykernel)",
   "language": "python",
   "name": "python3"
  },
  "language_info": {
   "codemirror_mode": {
    "name": "ipython",
    "version": 3
   },
   "file_extension": ".py",
   "mimetype": "text/x-python",
   "name": "python",
   "nbconvert_exporter": "python",
   "pygments_lexer": "ipython3",
   "version": "3.9.21"
  }
 },
 "nbformat": 4,
 "nbformat_minor": 5
}
